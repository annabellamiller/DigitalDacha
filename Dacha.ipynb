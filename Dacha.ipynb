{
 "cells": [
  {
   "cell_type": "code",
   "execution_count": null,
   "metadata": {},
   "outputs": [],
   "source": [
    "import data_processing as dp\n",
    "\n",
    "# Case dataframes over all different locations \n",
    "# Data on population and median income from:\n",
    "# https://www.census.gov/quickfacts/table/PST045215/0457380\n",
    "\n",
    "dacha_file = 'digital_dacha_data_2024.csv'\n",
    "population_file = 'Population.csv'\n",
    "\n",
    "df = dp.process_data(dacha_file, population_file)\n",
    "\n",
    "# Fixed cost associated with operating a store\n",
    "fixed_cost = 500_000\n",
    "\n",
    "# Grand Junction\n",
    "GJ_Wage_Expert = 4_500\n",
    "GJ_Wage_Staff = 1_160\n",
    "GJ_pop_estimate = 69_412\n",
    "GJ_med_inc_estimate = 62_993\n",
    "GJ_recommendation_df = dp.calculate_recommended_staffing(df, GJ_Wage_Expert, GJ_Wage_Staff, GJ_pop_estimate, GJ_med_inc_estimate, Contribution_Margin=100, Rev=1000)\n",
    "\n",
    "\n",
    "# St. George\n",
    "SG_Wage_Expert = 4_500\n",
    "SG_Wage_Staff = 2_000\n",
    "SG_pop_estimate = 104_578\n",
    "SG_med_inc_estimate = 69_333\n",
    "SG_recommendation_df = dp.calculate_recommended_staffing(df, SG_Wage_Expert, SG_Wage_Staff, SG_pop_estimate, SG_med_inc_estimate, Contribution_Margin=100, Rev=1000)\n",
    "\n",
    "# Prescott\n",
    "Prescott_Wage_Expert = 4_500\n",
    "Prescott_Wage_Staff = 1_160\n",
    "Prescott_pop_estimate = 47_757\n",
    "Prescott_med_inc_estimate = 66_330\n",
    "Prescott_recommendation_df = dp.calculate_recommended_staffing(df, Prescott_Wage_Expert, Prescott_Wage_Staff, Prescott_pop_estimate, Prescott_med_inc_estimate, Contribution_Margin=100, Rev=1000)\n",
    "\n",
    "# Prescott Min Wage Raised to $15\n",
    "P_Increase_Min_Wage_Expert = 6_000\n",
    "P_min_wage_recommendation_df = dp.calculate_recommended_staffing(df, P_Increase_Min_Wage_Expert, Prescott_Wage_Staff, Prescott_pop_estimate, Prescott_med_inc_estimate, Contribution_Margin=100, Rev=1000)\n",
    "\n",
    "# Rexburg Idaho, Smaller Market\n",
    "Rex_Wage_Expert = 4_500\n",
    "Rex_Wage_Staff = 1_160\n",
    "Rex_pop_estimate = 39_975\n",
    "Rex_med_inc_estimate = 46_286\n",
    "Rex_recommendation_df = dp.calculate_recommended_staffing(df, Rex_Wage_Expert, Rex_Wage_Staff, Rex_pop_estimate, Rex_med_inc_estimate, Contribution_Margin=100, Rev=1000)\n",
    "\n"
   ]
  }
 ],
 "metadata": {
  "kernelspec": {
   "display_name": "Python 3",
   "language": "python",
   "name": "python3"
  },
  "language_info": {
   "codemirror_mode": {
    "name": "ipython",
    "version": 3
   },
   "file_extension": ".py",
   "mimetype": "text/x-python",
   "name": "python",
   "nbconvert_exporter": "python",
   "pygments_lexer": "ipython3",
   "version": "3.12.7"
  }
 },
 "nbformat": 4,
 "nbformat_minor": 2
}
